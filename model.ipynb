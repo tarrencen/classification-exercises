{
 "cells": [
  {
   "cell_type": "code",
   "execution_count": 1,
   "metadata": {},
   "outputs": [
    {
     "name": "stdout",
     "output_type": "stream",
     "text": [
      "Reading from CSV file...\n"
     ]
    }
   ],
   "source": [
    "import pandas as pd\n",
    "import numpy as np\n",
    "import matplotlib.pyplot as plt\n",
    "import seaborn as sns\n",
    "import acquire as acq\n",
    "import prep\n",
    "import graphviz\n",
    "from env import get_db_url\n",
    "from pydataset import data\n",
    "from sklearn.model_selection import train_test_split\n",
    "from sklearn.tree import DecisionTreeClassifier, plot_tree\n",
    "from sklearn.metrics import classification_report, confusion_matrix, accuracy_score, precision_score, recall_score, f1_score\n",
    "\n",
    "#ignore warnings\n",
    "import warnings\n",
    "warnings.filterwarnings('ignore')\n"
   ]
  },
  {
   "cell_type": "markdown",
   "metadata": {},
   "source": [
    "### Using the titanic data:\n",
    "\n",
    "What is your baseline prediction? What is your baseline accuracy? remember: your baseline prediction for a classification problem is predicting the most prevelant class in the training dataset (the mode). When you make those predictions, what is your accuracy? This is your baseline accuracy."
   ]
  },
  {
   "cell_type": "code",
   "execution_count": 2,
   "metadata": {},
   "outputs": [
    {
     "name": "stdout",
     "output_type": "stream",
     "text": [
      "Reading from CSV file...\n",
      "Reading from CSV file...\n",
      "<class 'pandas.core.frame.DataFrame'>\n",
      "Int64Index: 498 entries, 850 to 421\n",
      "Data columns (total 9 columns):\n",
      " #   Column                   Non-Null Count  Dtype  \n",
      "---  ------                   --------------  -----  \n",
      " 0   survived                 498 non-null    int64  \n",
      " 1   pclass                   498 non-null    int64  \n",
      " 2   sibsp                    498 non-null    int64  \n",
      " 3   parch                    498 non-null    int64  \n",
      " 4   fare                     498 non-null    float64\n",
      " 5   alone                    498 non-null    int64  \n",
      " 6   sex_male                 498 non-null    uint8  \n",
      " 7   embark_town_Queenstown   498 non-null    uint8  \n",
      " 8   embark_town_Southampton  498 non-null    uint8  \n",
      "dtypes: float64(1), int64(5), uint8(3)\n",
      "memory usage: 28.7 KB\n"
     ]
    }
   ],
   "source": [
    "titanic_df = acq.get_titanic_data()\n",
    "titanic_df_clean, train, validate, test = prep.prep_titanic(titanic_df)\n",
    "train.info()\n"
   ]
  },
  {
   "cell_type": "code",
   "execution_count": 3,
   "metadata": {},
   "outputs": [
    {
     "name": "stdout",
     "output_type": "stream",
     "text": [
      "Survival rate on the Titanic: 38.38%\n",
      "Number of survivors: 342\n",
      "Number who perished: 549\n"
     ]
    }
   ],
   "source": [
    "print(f'Survival rate on the Titanic: {titanic_df_clean.survived.mean():.2%}')\n",
    "print(f'Number of survivors: {len(titanic_df_clean[titanic_df_clean.survived == 1])}')\n",
    "print(f'Number who perished: {len(titanic_df_clean[titanic_df_clean.survived == 0])}')"
   ]
  },
  {
   "cell_type": "code",
   "execution_count": 4,
   "metadata": {},
   "outputs": [
    {
     "name": "stdout",
     "output_type": "stream",
     "text": [
      "<class 'pandas.core.frame.DataFrame'>\n",
      "Int64Index: 214 entries, 307 to 607\n",
      "Data columns (total 9 columns):\n",
      " #   Column                   Non-Null Count  Dtype  \n",
      "---  ------                   --------------  -----  \n",
      " 0   survived                 214 non-null    int64  \n",
      " 1   pclass                   214 non-null    int64  \n",
      " 2   sibsp                    214 non-null    int64  \n",
      " 3   parch                    214 non-null    int64  \n",
      " 4   fare                     214 non-null    float64\n",
      " 5   alone                    214 non-null    int64  \n",
      " 6   sex_male                 214 non-null    uint8  \n",
      " 7   embark_town_Queenstown   214 non-null    uint8  \n",
      " 8   embark_town_Southampton  214 non-null    uint8  \n",
      "dtypes: float64(1), int64(5), uint8(3)\n",
      "memory usage: 12.3 KB\n"
     ]
    }
   ],
   "source": [
    "validate.info()\n",
    "#test.info()"
   ]
  },
  {
   "cell_type": "markdown",
   "metadata": {},
   "source": [
    "Tree building first, then... Idk"
   ]
  },
  {
   "cell_type": "code",
   "execution_count": 5,
   "metadata": {},
   "outputs": [
    {
     "data": {
      "text/plain": [
       "DecisionTreeClassifier(max_depth=3, random_state=302)"
      ]
     },
     "execution_count": 5,
     "metadata": {},
     "output_type": "execute_result"
    }
   ],
   "source": [
    "X_train = train.drop(columns= ['survived'])\n",
    "y_train = train.survived\n",
    "\n",
    "X_validate = validate.drop(columns= ['survived'])\n",
    "y_validate = validate.survived\n",
    "\n",
    "X_test = test.drop(columns=['survived'])\n",
    "y_test = test.survived\n",
    "\n",
    "clf = DecisionTreeClassifier(max_depth=3, random_state=302)\n",
    "clf.fit(X_train, y_train)\n",
    "\n"
   ]
  },
  {
   "cell_type": "code",
   "execution_count": 6,
   "metadata": {},
   "outputs": [
    {
     "data": {
      "text/plain": [
       "[Text(558.0, 570.7800000000001, 'sex_male <= 0.5\\ngini = 0.473\\nsamples = 498\\nvalue = [307, 191]'),\n",
       " Text(279.0, 407.70000000000005, 'pclass <= 2.5\\ngini = 0.392\\nsamples = 179\\nvalue = [48, 131]'),\n",
       " Text(139.5, 244.62, 'fare <= 149.035\\ngini = 0.118\\nsamples = 95\\nvalue = [6, 89]'),\n",
       " Text(69.75, 81.53999999999996, 'gini = 0.093\\nsamples = 82\\nvalue = [4, 78]'),\n",
       " Text(209.25, 81.53999999999996, 'gini = 0.26\\nsamples = 13\\nvalue = [2, 11]'),\n",
       " Text(418.5, 244.62, 'parch <= 0.5\\ngini = 0.5\\nsamples = 84\\nvalue = [42, 42]'),\n",
       " Text(348.75, 81.53999999999996, 'gini = 0.457\\nsamples = 51\\nvalue = [18, 33]'),\n",
       " Text(488.25, 81.53999999999996, 'gini = 0.397\\nsamples = 33\\nvalue = [24, 9]'),\n",
       " Text(837.0, 407.70000000000005, 'fare <= 15.173\\ngini = 0.305\\nsamples = 319\\nvalue = [259, 60]'),\n",
       " Text(697.5, 244.62, 'fare <= 13.25\\ngini = 0.204\\nsamples = 200\\nvalue = [177, 23]'),\n",
       " Text(627.75, 81.53999999999996, 'gini = 0.213\\nsamples = 190\\nvalue = [167, 23]'),\n",
       " Text(767.25, 81.53999999999996, 'gini = 0.0\\nsamples = 10\\nvalue = [10, 0]'),\n",
       " Text(976.5, 244.62, 'sibsp <= 2.5\\ngini = 0.429\\nsamples = 119\\nvalue = [82, 37]'),\n",
       " Text(906.75, 81.53999999999996, 'gini = 0.45\\nsamples = 108\\nvalue = [71, 37]'),\n",
       " Text(1046.25, 81.53999999999996, 'gini = 0.0\\nsamples = 11\\nvalue = [11, 0]')]"
      ]
     },
     "execution_count": 6,
     "metadata": {},
     "output_type": "execute_result"
    },
    {
     "data": {
      "image/png": "[encoded data removed]",
      "text/plain": [
       "<Figure size 1440x864 with 1 Axes>"
      ]
     },
     "metadata": {
      "needs_background": "light"
     },
     "output_type": "display_data"
    }
   ],
   "source": [
    "plt.figure(figsize=(20, 12))\n",
    "plot_tree(clf, feature_names=X_train.columns, rounded=True)"
   ]
  },
  {
   "cell_type": "code",
   "execution_count": 9,
   "metadata": {},
   "outputs": [],
   "source": [
    "import sklearn.tree"
   ]
  },
  {
   "cell_type": "code",
   "execution_count": 10,
   "metadata": {},
   "outputs": [
    {
     "data": {
      "image/svg+xml": "<?xml version=\"1.0\" encoding=\"UTF-8\" standalone=\"no\"?>\n<!DOCTYPE svg PUBLIC \"-//W3C//DTD SVG 1.1//EN\"\n \"http://www.w3.org/Graphics/SVG/1.1/DTD/svg11.dtd\">\n<!-- Generated by graphviz version 2.50.0 (20211204.2007)\n -->\n<!-- Title: Tree Pages: 1 -->\n<svg width=\"982pt\" height=\"373pt\"\n viewBox=\"0.00 0.00 982.00 373.00\" xmlns=\"http://www.w3.org/2000/svg\" xmlns:xlink=\"http://www.w3.org/1999/xlink\">\n<g id=\"graph0\" class=\"graph\" transform=\"scale(1 1) rotate(0) translate(4 369)\">\n<title>Tree</title>\n<polygon fill=\"white\" stroke=\"transparent\" points=\"-4,4 -4,-369 978,-369 978,4 -4,4\"/>\n<!-- 0 -->\n<g id=\"node1\" class=\"node\">\n<title>0</title>\n<path fill=\"#f5cfb4\" stroke=\"black\" d=\"M529.5,-365C529.5,-365 428.5,-365 428.5,-365 422.5,-365 416.5,-359 416.5,-353 416.5,-353 416.5,-309 416.5,-309 416.5,-303 422.5,-297 428.5,-297 428.5,-297 529.5,-297 529.5,-297 535.5,-297 541.5,-303 541.5,-309 541.5,-309 541.5,-353 541.5,-353 541.5,-359 535.5,-365 529.5,-365\"/>\n<text text-anchor=\"start\" x=\"432.5\" y=\"-349.8\" font-family=\"Helvetica,sans-Serif\" font-size=\"14.00\">sex_male ≤ 0.5</text>\n<text text-anchor=\"start\" x=\"443.5\" y=\"-334.8\" font-family=\"Helvetica,sans-Serif\" font-size=\"14.00\">gini = 0.473</text>\n<text text-anchor=\"start\" x=\"434\" y=\"-319.8\" font-family=\"Helvetica,sans-Serif\" font-size=\"14.00\">samples = 498</text>\n<text text-anchor=\"start\" x=\"424.5\" y=\"-304.8\" font-family=\"Helvetica,sans-Serif\" font-size=\"14.00\">value = [307, 191]</text>\n</g>\n<!-- 1 -->\n<g id=\"node2\" class=\"node\">\n<title>1</title>\n<path fill=\"#82c1ef\" stroke=\"black\" d=\"M400.5,-261C400.5,-261 307.5,-261 307.5,-261 301.5,-261 295.5,-255 295.5,-249 295.5,-249 295.5,-205 295.5,-205 295.5,-199 301.5,-193 307.5,-193 307.5,-193 400.5,-193 400.5,-193 406.5,-193 412.5,-199 412.5,-205 412.5,-205 412.5,-249 412.5,-249 412.5,-255 406.5,-261 400.5,-261\"/>\n<text text-anchor=\"start\" x=\"317.5\" y=\"-245.8\" font-family=\"Helvetica,sans-Serif\" font-size=\"14.00\">pclass ≤ 2.5</text>\n<text text-anchor=\"start\" x=\"318.5\" y=\"-230.8\" font-family=\"Helvetica,sans-Serif\" font-size=\"14.00\">gini = 0.392</text>\n<text text-anchor=\"start\" x=\"309\" y=\"-215.8\" font-family=\"Helvetica,sans-Serif\" font-size=\"14.00\">samples = 179</text>\n<text text-anchor=\"start\" x=\"303.5\" y=\"-200.8\" font-family=\"Helvetica,sans-Serif\" font-size=\"14.00\">value = [48, 131]</text>\n</g>\n<!-- 0&#45;&gt;1 -->\n<g id=\"edge1\" class=\"edge\">\n<title>0&#45;&gt;1</title>\n<path fill=\"none\" stroke=\"black\" d=\"M438.42,-296.88C427.06,-287.62 414.61,-277.45 402.83,-267.85\"/>\n<polygon fill=\"black\" stroke=\"black\" points=\"404.77,-264.91 394.81,-261.3 400.34,-270.33 404.77,-264.91\"/>\n<text text-anchor=\"middle\" x=\"397.33\" y=\"-282.47\" font-family=\"Helvetica,sans-Serif\" font-size=\"14.00\">True</text>\n</g>\n<!-- 8 -->\n<g id=\"node9\" class=\"node\">\n<title>8</title>\n<path fill=\"#eb9e67\" stroke=\"black\" d=\"M653.5,-261C653.5,-261 560.5,-261 560.5,-261 554.5,-261 548.5,-255 548.5,-249 548.5,-249 548.5,-205 548.5,-205 548.5,-199 554.5,-193 560.5,-193 560.5,-193 653.5,-193 653.5,-193 659.5,-193 665.5,-199 665.5,-205 665.5,-205 665.5,-249 665.5,-249 665.5,-255 659.5,-261 653.5,-261\"/>\n<text text-anchor=\"start\" x=\"567\" y=\"-245.8\" font-family=\"Helvetica,sans-Serif\" font-size=\"14.00\">fare ≤ 15.173</text>\n<text text-anchor=\"start\" x=\"571.5\" y=\"-230.8\" font-family=\"Helvetica,sans-Serif\" font-size=\"14.00\">gini = 0.305</text>\n<text text-anchor=\"start\" x=\"562\" y=\"-215.8\" font-family=\"Helvetica,sans-Serif\" font-size=\"14.00\">samples = 319</text>\n<text text-anchor=\"start\" x=\"556.5\" y=\"-200.8\" font-family=\"Helvetica,sans-Serif\" font-size=\"14.00\">value = [259, 60]</text>\n</g>\n<!-- 0&#45;&gt;8 -->\n<g id=\"edge8\" class=\"edge\">\n<title>0&#45;&gt;8</title>\n<path fill=\"none\" stroke=\"black\" d=\"M520.56,-296.88C532.29,-287.53 545.18,-277.26 557.35,-267.57\"/>\n<polygon fill=\"black\" stroke=\"black\" points=\"559.57,-270.27 565.21,-261.3 555.21,-264.79 559.57,-270.27\"/>\n<text text-anchor=\"middle\" x=\"562.4\" y=\"-282.44\" font-family=\"Helvetica,sans-Serif\" font-size=\"14.00\">False</text>\n</g>\n<!-- 2 -->\n<g id=\"node3\" class=\"node\">\n<title>2</title>\n<path fill=\"#46a4e7\" stroke=\"black\" d=\"M211,-157C211,-157 131,-157 131,-157 125,-157 119,-151 119,-145 119,-145 119,-101 119,-101 119,-95 125,-89 131,-89 131,-89 211,-89 211,-89 217,-89 223,-95 223,-101 223,-101 223,-145 223,-145 223,-151 217,-157 211,-157\"/>\n<text text-anchor=\"start\" x=\"127\" y=\"-141.8\" font-family=\"Helvetica,sans-Serif\" font-size=\"14.00\">fare ≤ 149.035</text>\n<text text-anchor=\"start\" x=\"135.5\" y=\"-126.8\" font-family=\"Helvetica,sans-Serif\" font-size=\"14.00\">gini = 0.118</text>\n<text text-anchor=\"start\" x=\"130\" y=\"-111.8\" font-family=\"Helvetica,sans-Serif\" font-size=\"14.00\">samples = 95</text>\n<text text-anchor=\"start\" x=\"128\" y=\"-96.8\" font-family=\"Helvetica,sans-Serif\" font-size=\"14.00\">value = [6, 89]</text>\n</g>\n<!-- 1&#45;&gt;2 -->\n<g id=\"edge2\" class=\"edge\">\n<title>1&#45;&gt;2</title>\n<path fill=\"none\" stroke=\"black\" d=\"M295.34,-193.31C275.13,-182.04 252.44,-169.39 232.04,-158.02\"/>\n<polygon fill=\"black\" stroke=\"black\" points=\"233.59,-154.88 223.15,-153.07 230.18,-160.99 233.59,-154.88\"/>\n</g>\n<!-- 5 -->\n<g id=\"node6\" class=\"node\">\n<title>5</title>\n<path fill=\"#ffffff\" stroke=\"black\" d=\"M397,-157C397,-157 311,-157 311,-157 305,-157 299,-151 299,-145 299,-145 299,-101 299,-101 299,-95 305,-89 311,-89 311,-89 397,-89 397,-89 403,-89 409,-95 409,-101 409,-101 409,-145 409,-145 409,-151 403,-157 397,-157\"/>\n<text text-anchor=\"start\" x=\"320\" y=\"-141.8\" font-family=\"Helvetica,sans-Serif\" font-size=\"14.00\">parch ≤ 0.5</text>\n<text text-anchor=\"start\" x=\"326\" y=\"-126.8\" font-family=\"Helvetica,sans-Serif\" font-size=\"14.00\">gini = 0.5</text>\n<text text-anchor=\"start\" x=\"313\" y=\"-111.8\" font-family=\"Helvetica,sans-Serif\" font-size=\"14.00\">samples = 84</text>\n<text text-anchor=\"start\" x=\"307\" y=\"-96.8\" font-family=\"Helvetica,sans-Serif\" font-size=\"14.00\">value = [42, 42]</text>\n</g>\n<!-- 1&#45;&gt;5 -->\n<g id=\"edge5\" class=\"edge\">\n<title>1&#45;&gt;5</title>\n<path fill=\"none\" stroke=\"black\" d=\"M354,-192.88C354,-184.78 354,-175.98 354,-167.47\"/>\n<polygon fill=\"black\" stroke=\"black\" points=\"357.5,-167.3 354,-157.3 350.5,-167.3 357.5,-167.3\"/>\n</g>\n<!-- 3 -->\n<g id=\"node4\" class=\"node\">\n<title>3</title>\n<path fill=\"#43a2e6\" stroke=\"black\" d=\"M90,-53C90,-53 12,-53 12,-53 6,-53 0,-47 0,-41 0,-41 0,-12 0,-12 0,-6 6,0 12,0 12,0 90,0 90,0 96,0 102,-6 102,-12 102,-12 102,-41 102,-41 102,-47 96,-53 90,-53\"/>\n<text text-anchor=\"start\" x=\"15.5\" y=\"-37.8\" font-family=\"Helvetica,sans-Serif\" font-size=\"14.00\">gini = 0.093</text>\n<text text-anchor=\"start\" x=\"10\" y=\"-22.8\" font-family=\"Helvetica,sans-Serif\" font-size=\"14.00\">samples = 82</text>\n<text text-anchor=\"start\" x=\"8\" y=\"-7.8\" font-family=\"Helvetica,sans-Serif\" font-size=\"14.00\">value = [4, 78]</text>\n</g>\n<!-- 2&#45;&gt;3 -->\n<g id=\"edge3\" class=\"edge\">\n<title>2&#45;&gt;3</title>\n<path fill=\"none\" stroke=\"black\" d=\"M129.03,-88.95C116.95,-79.43 103.79,-69.07 91.78,-59.62\"/>\n<polygon fill=\"black\" stroke=\"black\" points=\"93.7,-56.67 83.68,-53.24 89.37,-62.17 93.7,-56.67\"/>\n</g>\n<!-- 4 -->\n<g id=\"node5\" class=\"node\">\n<title>4</title>\n<path fill=\"#5dafea\" stroke=\"black\" d=\"M210,-53C210,-53 132,-53 132,-53 126,-53 120,-47 120,-41 120,-41 120,-12 120,-12 120,-6 126,0 132,0 132,0 210,0 210,0 216,0 222,-6 222,-12 222,-12 222,-41 222,-41 222,-47 216,-53 210,-53\"/>\n<text text-anchor=\"start\" x=\"139\" y=\"-37.8\" font-family=\"Helvetica,sans-Serif\" font-size=\"14.00\">gini = 0.26</text>\n<text text-anchor=\"start\" x=\"130\" y=\"-22.8\" font-family=\"Helvetica,sans-Serif\" font-size=\"14.00\">samples = 13</text>\n<text text-anchor=\"start\" x=\"128\" y=\"-7.8\" font-family=\"Helvetica,sans-Serif\" font-size=\"14.00\">value = [2, 11]</text>\n</g>\n<!-- 2&#45;&gt;4 -->\n<g id=\"edge4\" class=\"edge\">\n<title>2&#45;&gt;4</title>\n<path fill=\"none\" stroke=\"black\" d=\"M171,-88.95C171,-80.72 171,-71.85 171,-63.48\"/>\n<polygon fill=\"black\" stroke=\"black\" points=\"174.5,-63.24 171,-53.24 167.5,-63.24 174.5,-63.24\"/>\n</g>\n<!-- 6 -->\n<g id=\"node7\" class=\"node\">\n<title>6</title>\n<path fill=\"#a5d2f3\" stroke=\"black\" d=\"M338,-53C338,-53 252,-53 252,-53 246,-53 240,-47 240,-41 240,-41 240,-12 240,-12 240,-6 246,0 252,0 252,0 338,0 338,0 344,0 350,-6 350,-12 350,-12 350,-41 350,-41 350,-47 344,-53 338,-53\"/>\n<text text-anchor=\"start\" x=\"259.5\" y=\"-37.8\" font-family=\"Helvetica,sans-Serif\" font-size=\"14.00\">gini = 0.457</text>\n<text text-anchor=\"start\" x=\"254\" y=\"-22.8\" font-family=\"Helvetica,sans-Serif\" font-size=\"14.00\">samples = 51</text>\n<text text-anchor=\"start\" x=\"248\" y=\"-7.8\" font-family=\"Helvetica,sans-Serif\" font-size=\"14.00\">value = [18, 33]</text>\n</g>\n<!-- 5&#45;&gt;6 -->\n<g id=\"edge6\" class=\"edge\">\n<title>5&#45;&gt;6</title>\n<path fill=\"none\" stroke=\"black\" d=\"M333.36,-88.95C327.88,-80.17 321.95,-70.66 316.42,-61.82\"/>\n<polygon fill=\"black\" stroke=\"black\" points=\"319.33,-59.87 311.07,-53.24 313.4,-63.57 319.33,-59.87\"/>\n</g>\n<!-- 7 -->\n<g id=\"node8\" class=\"node\">\n<title>7</title>\n<path fill=\"#efb083\" stroke=\"black\" d=\"M458,-53C458,-53 380,-53 380,-53 374,-53 368,-47 368,-41 368,-41 368,-12 368,-12 368,-6 374,0 380,0 380,0 458,0 458,0 464,0 470,-6 470,-12 470,-12 470,-41 470,-41 470,-47 464,-53 458,-53\"/>\n<text text-anchor=\"start\" x=\"383.5\" y=\"-37.8\" font-family=\"Helvetica,sans-Serif\" font-size=\"14.00\">gini = 0.397</text>\n<text text-anchor=\"start\" x=\"378\" y=\"-22.8\" font-family=\"Helvetica,sans-Serif\" font-size=\"14.00\">samples = 33</text>\n<text text-anchor=\"start\" x=\"376\" y=\"-7.8\" font-family=\"Helvetica,sans-Serif\" font-size=\"14.00\">value = [24, 9]</text>\n</g>\n<!-- 5&#45;&gt;7 -->\n<g id=\"edge7\" class=\"edge\">\n<title>5&#45;&gt;7</title>\n<path fill=\"none\" stroke=\"black\" d=\"M376.73,-88.95C382.84,-80.07 389.45,-70.46 395.59,-61.54\"/>\n<polygon fill=\"black\" stroke=\"black\" points=\"398.51,-63.46 401.3,-53.24 392.75,-59.49 398.51,-63.46\"/>\n</g>\n<!-- 9 -->\n<g id=\"node10\" class=\"node\">\n<title>9</title>\n<path fill=\"#e89153\" stroke=\"black\" d=\"M653.5,-157C653.5,-157 560.5,-157 560.5,-157 554.5,-157 548.5,-151 548.5,-145 548.5,-145 548.5,-101 548.5,-101 548.5,-95 554.5,-89 560.5,-89 560.5,-89 653.5,-89 653.5,-89 659.5,-89 665.5,-95 665.5,-101 665.5,-101 665.5,-145 665.5,-145 665.5,-151 659.5,-157 653.5,-157\"/>\n<text text-anchor=\"start\" x=\"570.5\" y=\"-141.8\" font-family=\"Helvetica,sans-Serif\" font-size=\"14.00\">fare ≤ 13.25</text>\n<text text-anchor=\"start\" x=\"571.5\" y=\"-126.8\" font-family=\"Helvetica,sans-Serif\" font-size=\"14.00\">gini = 0.204</text>\n<text text-anchor=\"start\" x=\"562\" y=\"-111.8\" font-family=\"Helvetica,sans-Serif\" font-size=\"14.00\">samples = 200</text>\n<text text-anchor=\"start\" x=\"556.5\" y=\"-96.8\" font-family=\"Helvetica,sans-Serif\" font-size=\"14.00\">value = [177, 23]</text>\n</g>\n<!-- 8&#45;&gt;9 -->\n<g id=\"edge9\" class=\"edge\">\n<title>8&#45;&gt;9</title>\n<path fill=\"none\" stroke=\"black\" d=\"M607,-192.88C607,-184.78 607,-175.98 607,-167.47\"/>\n<polygon fill=\"black\" stroke=\"black\" points=\"610.5,-167.3 607,-157.3 603.5,-167.3 610.5,-167.3\"/>\n</g>\n<!-- 12 -->\n<g id=\"node13\" class=\"node\">\n<title>12</title>\n<path fill=\"#f1ba92\" stroke=\"black\" d=\"M842,-157C842,-157 756,-157 756,-157 750,-157 744,-151 744,-145 744,-145 744,-101 744,-101 744,-95 750,-89 756,-89 756,-89 842,-89 842,-89 848,-89 854,-95 854,-101 854,-101 854,-145 854,-145 854,-151 848,-157 842,-157\"/>\n<text text-anchor=\"start\" x=\"766\" y=\"-141.8\" font-family=\"Helvetica,sans-Serif\" font-size=\"14.00\">sibsp ≤ 2.5</text>\n<text text-anchor=\"start\" x=\"763.5\" y=\"-126.8\" font-family=\"Helvetica,sans-Serif\" font-size=\"14.00\">gini = 0.429</text>\n<text text-anchor=\"start\" x=\"754\" y=\"-111.8\" font-family=\"Helvetica,sans-Serif\" font-size=\"14.00\">samples = 119</text>\n<text text-anchor=\"start\" x=\"752\" y=\"-96.8\" font-family=\"Helvetica,sans-Serif\" font-size=\"14.00\">value = [82, 37]</text>\n</g>\n<!-- 8&#45;&gt;12 -->\n<g id=\"edge12\" class=\"edge\">\n<title>8&#45;&gt;12</title>\n<path fill=\"none\" stroke=\"black\" d=\"M665.65,-194.84C687.55,-183.21 712.53,-169.93 734.91,-158.05\"/>\n<polygon fill=\"black\" stroke=\"black\" points=\"736.8,-161.01 743.99,-153.22 733.52,-154.83 736.8,-161.01\"/>\n</g>\n<!-- 10 -->\n<g id=\"node11\" class=\"node\">\n<title>10</title>\n<path fill=\"#e99254\" stroke=\"black\" d=\"M593.5,-53C593.5,-53 500.5,-53 500.5,-53 494.5,-53 488.5,-47 488.5,-41 488.5,-41 488.5,-12 488.5,-12 488.5,-6 494.5,0 500.5,0 500.5,0 593.5,0 593.5,0 599.5,0 605.5,-6 605.5,-12 605.5,-12 605.5,-41 605.5,-41 605.5,-47 599.5,-53 593.5,-53\"/>\n<text text-anchor=\"start\" x=\"511.5\" y=\"-37.8\" font-family=\"Helvetica,sans-Serif\" font-size=\"14.00\">gini = 0.213</text>\n<text text-anchor=\"start\" x=\"502\" y=\"-22.8\" font-family=\"Helvetica,sans-Serif\" font-size=\"14.00\">samples = 190</text>\n<text text-anchor=\"start\" x=\"496.5\" y=\"-7.8\" font-family=\"Helvetica,sans-Serif\" font-size=\"14.00\">value = [167, 23]</text>\n</g>\n<!-- 9&#45;&gt;10 -->\n<g id=\"edge10\" class=\"edge\">\n<title>9&#45;&gt;10</title>\n<path fill=\"none\" stroke=\"black\" d=\"M586.01,-88.95C580.44,-80.17 574.41,-70.66 568.79,-61.82\"/>\n<polygon fill=\"black\" stroke=\"black\" points=\"571.66,-59.8 563.34,-53.24 565.75,-63.55 571.66,-59.8\"/>\n</g>\n<!-- 11 -->\n<g id=\"node12\" class=\"node\">\n<title>11</title>\n<path fill=\"#e58139\" stroke=\"black\" d=\"M714,-53C714,-53 636,-53 636,-53 630,-53 624,-47 624,-41 624,-41 624,-12 624,-12 624,-6 630,0 636,0 636,0 714,0 714,0 720,0 726,-6 726,-12 726,-12 726,-41 726,-41 726,-47 720,-53 714,-53\"/>\n<text text-anchor=\"start\" x=\"647\" y=\"-37.8\" font-family=\"Helvetica,sans-Serif\" font-size=\"14.00\">gini = 0.0</text>\n<text text-anchor=\"start\" x=\"634\" y=\"-22.8\" font-family=\"Helvetica,sans-Serif\" font-size=\"14.00\">samples = 10</text>\n<text text-anchor=\"start\" x=\"632\" y=\"-7.8\" font-family=\"Helvetica,sans-Serif\" font-size=\"14.00\">value = [10, 0]</text>\n</g>\n<!-- 9&#45;&gt;11 -->\n<g id=\"edge11\" class=\"edge\">\n<title>9&#45;&gt;11</title>\n<path fill=\"none\" stroke=\"black\" d=\"M630.78,-88.95C637.17,-80.07 644.08,-70.46 650.51,-61.54\"/>\n<polygon fill=\"black\" stroke=\"black\" points=\"653.48,-63.4 656.48,-53.24 647.8,-59.31 653.48,-63.4\"/>\n</g>\n<!-- 13 -->\n<g id=\"node14\" class=\"node\">\n<title>13</title>\n<path fill=\"#f3c3a0\" stroke=\"black\" d=\"M842,-53C842,-53 756,-53 756,-53 750,-53 744,-47 744,-41 744,-41 744,-12 744,-12 744,-6 750,0 756,0 756,0 842,0 842,0 848,0 854,-6 854,-12 854,-12 854,-41 854,-41 854,-47 848,-53 842,-53\"/>\n<text text-anchor=\"start\" x=\"767\" y=\"-37.8\" font-family=\"Helvetica,sans-Serif\" font-size=\"14.00\">gini = 0.45</text>\n<text text-anchor=\"start\" x=\"754\" y=\"-22.8\" font-family=\"Helvetica,sans-Serif\" font-size=\"14.00\">samples = 108</text>\n<text text-anchor=\"start\" x=\"752\" y=\"-7.8\" font-family=\"Helvetica,sans-Serif\" font-size=\"14.00\">value = [71, 37]</text>\n</g>\n<!-- 12&#45;&gt;13 -->\n<g id=\"edge13\" class=\"edge\">\n<title>12&#45;&gt;13</title>\n<path fill=\"none\" stroke=\"black\" d=\"M799,-88.95C799,-80.72 799,-71.85 799,-63.48\"/>\n<polygon fill=\"black\" stroke=\"black\" points=\"802.5,-63.24 799,-53.24 795.5,-63.24 802.5,-63.24\"/>\n</g>\n<!-- 14 -->\n<g id=\"node15\" class=\"node\">\n<title>14</title>\n<path fill=\"#e58139\" stroke=\"black\" d=\"M962,-53C962,-53 884,-53 884,-53 878,-53 872,-47 872,-41 872,-41 872,-12 872,-12 872,-6 878,0 884,0 884,0 962,0 962,0 968,0 974,-6 974,-12 974,-12 974,-41 974,-41 974,-47 968,-53 962,-53\"/>\n<text text-anchor=\"start\" x=\"895\" y=\"-37.8\" font-family=\"Helvetica,sans-Serif\" font-size=\"14.00\">gini = 0.0</text>\n<text text-anchor=\"start\" x=\"882\" y=\"-22.8\" font-family=\"Helvetica,sans-Serif\" font-size=\"14.00\">samples = 11</text>\n<text text-anchor=\"start\" x=\"880\" y=\"-7.8\" font-family=\"Helvetica,sans-Serif\" font-size=\"14.00\">value = [11, 0]</text>\n</g>\n<!-- 12&#45;&gt;14 -->\n<g id=\"edge14\" class=\"edge\">\n<title>12&#45;&gt;14</title>\n<path fill=\"none\" stroke=\"black\" d=\"M842.37,-88.95C854.97,-79.34 868.71,-68.87 881.21,-59.34\"/>\n<polygon fill=\"black\" stroke=\"black\" points=\"883.4,-62.08 889.23,-53.24 879.15,-56.51 883.4,-62.08\"/>\n</g>\n</g>\n</svg>\n",
      "text/plain": [
       "<graphviz.sources.Source at 0x7f7e61724550>"
      ]
     },
     "execution_count": 10,
     "metadata": {},
     "output_type": "execute_result"
    }
   ],
   "source": [
    "titan_data = sklearn.tree.export_graphviz(clf, feature_names= X_train.columns,\n",
    "    filled= True, rounded= True, \n",
    "    special_characters= True)\n",
    "graph = graphviz.Source(titan_data)\n",
    "graph"
   ]
  },
  {
   "cell_type": "code",
   "execution_count": 11,
   "metadata": {},
   "outputs": [
    {
     "name": "stdout",
     "output_type": "stream",
     "text": [
      "              precision    recall  f1-score   support\n",
      "\n",
      "           0       0.80      0.92      0.86       307\n",
      "           1       0.84      0.64      0.72       191\n",
      "\n",
      "    accuracy                           0.81       498\n",
      "   macro avg       0.82      0.78      0.79       498\n",
      "weighted avg       0.82      0.81      0.81       498\n",
      "\n"
     ]
    }
   ],
   "source": [
    "train_predicts = clf.predict(X_train)\n",
    "actual = y_train\n",
    "\n",
    "print(classification_report(actual, train_predicts))"
   ]
  },
  {
   "cell_type": "code",
   "execution_count": 12,
   "metadata": {},
   "outputs": [
    {
     "name": "stdout",
     "output_type": "stream",
     "text": [
      "              precision    recall  f1-score   support\n",
      "\n",
      "           0       0.79      0.89      0.84       132\n",
      "           1       0.78      0.62      0.69        82\n",
      "\n",
      "    accuracy                           0.79       214\n",
      "   macro avg       0.79      0.76      0.77       214\n",
      "weighted avg       0.79      0.79      0.78       214\n",
      "\n"
     ]
    }
   ],
   "source": [
    "validate_predicts = clf.predict(X_validate)\n",
    "valid_actual = y_validate\n",
    "\n",
    "print(classification_report(valid_actual, validate_predicts))"
   ]
  },
  {
   "cell_type": "code",
   "execution_count": 13,
   "metadata": {},
   "outputs": [
    {
     "name": "stdout",
     "output_type": "stream",
     "text": [
      "0.8132530120481928\n",
      "0.7897196261682243\n"
     ]
    }
   ],
   "source": [
    "print(clf.score(X_train, y_train))\n",
    "print(clf.score(X_validate, y_validate))"
   ]
  },
  {
   "cell_type": "code",
   "execution_count": 14,
   "metadata": {},
   "outputs": [
    {
     "name": "stdout",
     "output_type": "stream",
     "text": [
      "              precision    recall  f1-score   support\n",
      "\n",
      "           0       0.75      0.98      0.85       307\n",
      "           1       0.94      0.47      0.62       191\n",
      "\n",
      "    accuracy                           0.78       498\n",
      "   macro avg       0.84      0.72      0.74       498\n",
      "weighted avg       0.82      0.78      0.76       498\n",
      "\n"
     ]
    }
   ],
   "source": [
    "model_two = DecisionTreeClassifier(max_depth=2, random_state=302)\n",
    "\n",
    "model_two.fit(X_train, y_train)\n",
    "\n",
    "model_two_predicts = model_two.predict(X_train)\n",
    "model_two_actual = y_train\n",
    "\n",
    "print(classification_report(model_two_actual, model_two_predicts))\n"
   ]
  },
  {
   "cell_type": "code",
   "execution_count": 15,
   "metadata": {},
   "outputs": [
    {
     "name": "stdout",
     "output_type": "stream",
     "text": [
      "              precision    recall  f1-score   support\n",
      "\n",
      "           0       0.77      0.98      0.86       132\n",
      "           1       0.96      0.52      0.68        82\n",
      "\n",
      "    accuracy                           0.81       214\n",
      "   macro avg       0.86      0.75      0.77       214\n",
      "weighted avg       0.84      0.81      0.79       214\n",
      "\n"
     ]
    }
   ],
   "source": [
    "model_two.fit(X_validate, y_validate)\n",
    "\n",
    "model2_val_pred = model_two.predict(X_validate)\n",
    "model2_val_act = y_validate\n",
    "\n",
    "print(classification_report(model2_val_act, model2_val_pred))"
   ]
  },
  {
   "cell_type": "code",
   "execution_count": 16,
   "metadata": {},
   "outputs": [
    {
     "name": "stdout",
     "output_type": "stream",
     "text": [
      "0.7831325301204819\n",
      "0.8084112149532711\n"
     ]
    }
   ],
   "source": [
    "print(model_two.score(X_train, y_train))\n",
    "print(model_two.score(X_validate, y_validate))"
   ]
  },
  {
   "cell_type": "code",
   "execution_count": 19,
   "metadata": {},
   "outputs": [
    {
     "data": {
      "image/svg+xml": "<?xml version=\"1.0\" encoding=\"UTF-8\" standalone=\"no\"?>\n<!DOCTYPE svg PUBLIC \"-//W3C//DTD SVG 1.1//EN\"\n \"http://www.w3.org/Graphics/SVG/1.1/DTD/svg11.dtd\">\n<!-- Generated by graphviz version 2.50.0 (20211204.2007)\n -->\n<!-- Title: Tree Pages: 1 -->\n<svg width=\"490pt\" height=\"269pt\"\n viewBox=\"0.00 0.00 490.00 269.00\" xmlns=\"http://www.w3.org/2000/svg\" xmlns:xlink=\"http://www.w3.org/1999/xlink\">\n<g id=\"graph0\" class=\"graph\" transform=\"scale(1 1) rotate(0) translate(4 265)\">\n<title>Tree</title>\n<polygon fill=\"white\" stroke=\"transparent\" points=\"-4,4 -4,-265 486,-265 486,4 -4,4\"/>\n<!-- 0 -->\n<g id=\"node1\" class=\"node\">\n<title>0</title>\n<path fill=\"#f5cfb4\" stroke=\"black\" d=\"M285.5,-261C285.5,-261 192.5,-261 192.5,-261 186.5,-261 180.5,-255 180.5,-249 180.5,-249 180.5,-205 180.5,-205 180.5,-199 186.5,-193 192.5,-193 192.5,-193 285.5,-193 285.5,-193 291.5,-193 297.5,-199 297.5,-205 297.5,-205 297.5,-249 297.5,-249 297.5,-255 291.5,-261 285.5,-261\"/>\n<text text-anchor=\"start\" x=\"192.5\" y=\"-245.8\" font-family=\"Helvetica,sans-Serif\" font-size=\"14.00\">sex_male ≤ 0.5</text>\n<text text-anchor=\"start\" x=\"203.5\" y=\"-230.8\" font-family=\"Helvetica,sans-Serif\" font-size=\"14.00\">gini = 0.473</text>\n<text text-anchor=\"start\" x=\"194\" y=\"-215.8\" font-family=\"Helvetica,sans-Serif\" font-size=\"14.00\">samples = 214</text>\n<text text-anchor=\"start\" x=\"188.5\" y=\"-200.8\" font-family=\"Helvetica,sans-Serif\" font-size=\"14.00\">value = [132, 82]</text>\n</g>\n<!-- 1 -->\n<g id=\"node2\" class=\"node\">\n<title>1</title>\n<path fill=\"#89c5ef\" stroke=\"black\" d=\"M216,-157C216,-157 130,-157 130,-157 124,-157 118,-151 118,-145 118,-145 118,-101 118,-101 118,-95 124,-89 130,-89 130,-89 216,-89 216,-89 222,-89 228,-95 228,-101 228,-101 228,-145 228,-145 228,-151 222,-157 216,-157\"/>\n<text text-anchor=\"start\" x=\"136.5\" y=\"-141.8\" font-family=\"Helvetica,sans-Serif\" font-size=\"14.00\">pclass ≤ 2.5</text>\n<text text-anchor=\"start\" x=\"141\" y=\"-126.8\" font-family=\"Helvetica,sans-Serif\" font-size=\"14.00\">gini = 0.41</text>\n<text text-anchor=\"start\" x=\"132\" y=\"-111.8\" font-family=\"Helvetica,sans-Serif\" font-size=\"14.00\">samples = 80</text>\n<text text-anchor=\"start\" x=\"126\" y=\"-96.8\" font-family=\"Helvetica,sans-Serif\" font-size=\"14.00\">value = [23, 57]</text>\n</g>\n<!-- 0&#45;&gt;1 -->\n<g id=\"edge1\" class=\"edge\">\n<title>0&#45;&gt;1</title>\n<path fill=\"none\" stroke=\"black\" d=\"M217.57,-192.88C211.98,-184.24 205.88,-174.82 200.04,-165.79\"/>\n<polygon fill=\"black\" stroke=\"black\" points=\"202.92,-163.79 194.55,-157.3 197.04,-167.6 202.92,-163.79\"/>\n<text text-anchor=\"middle\" x=\"189.31\" y=\"-178.04\" font-family=\"Helvetica,sans-Serif\" font-size=\"14.00\">True</text>\n</g>\n<!-- 4 -->\n<g id=\"node5\" class=\"node\">\n<title>4</title>\n<path fill=\"#eb9e66\" stroke=\"black\" d=\"M351.5,-157C351.5,-157 258.5,-157 258.5,-157 252.5,-157 246.5,-151 246.5,-145 246.5,-145 246.5,-101 246.5,-101 246.5,-95 252.5,-89 258.5,-89 258.5,-89 351.5,-89 351.5,-89 357.5,-89 363.5,-95 363.5,-101 363.5,-101 363.5,-145 363.5,-145 363.5,-151 357.5,-157 351.5,-157\"/>\n<text text-anchor=\"start\" x=\"265\" y=\"-141.8\" font-family=\"Helvetica,sans-Serif\" font-size=\"14.00\">fare ≤ 11.488</text>\n<text text-anchor=\"start\" x=\"269.5\" y=\"-126.8\" font-family=\"Helvetica,sans-Serif\" font-size=\"14.00\">gini = 0.304</text>\n<text text-anchor=\"start\" x=\"260\" y=\"-111.8\" font-family=\"Helvetica,sans-Serif\" font-size=\"14.00\">samples = 134</text>\n<text text-anchor=\"start\" x=\"254.5\" y=\"-96.8\" font-family=\"Helvetica,sans-Serif\" font-size=\"14.00\">value = [109, 25]</text>\n</g>\n<!-- 0&#45;&gt;4 -->\n<g id=\"edge4\" class=\"edge\">\n<title>0&#45;&gt;4</title>\n<path fill=\"none\" stroke=\"black\" d=\"M260.43,-192.88C266.02,-184.24 272.12,-174.82 277.96,-165.79\"/>\n<polygon fill=\"black\" stroke=\"black\" points=\"280.96,-167.6 283.45,-157.3 275.08,-163.79 280.96,-167.6\"/>\n<text text-anchor=\"middle\" x=\"288.69\" y=\"-178.04\" font-family=\"Helvetica,sans-Serif\" font-size=\"14.00\">False</text>\n</g>\n<!-- 2 -->\n<g id=\"node3\" class=\"node\">\n<title>2</title>\n<path fill=\"#42a2e6\" stroke=\"black\" d=\"M90,-53C90,-53 12,-53 12,-53 6,-53 0,-47 0,-41 0,-41 0,-12 0,-12 0,-6 6,0 12,0 12,0 90,0 90,0 96,0 102,-6 102,-12 102,-12 102,-41 102,-41 102,-47 96,-53 90,-53\"/>\n<text text-anchor=\"start\" x=\"15.5\" y=\"-37.8\" font-family=\"Helvetica,sans-Serif\" font-size=\"14.00\">gini = 0.085</text>\n<text text-anchor=\"start\" x=\"10\" y=\"-22.8\" font-family=\"Helvetica,sans-Serif\" font-size=\"14.00\">samples = 45</text>\n<text text-anchor=\"start\" x=\"8\" y=\"-7.8\" font-family=\"Helvetica,sans-Serif\" font-size=\"14.00\">value = [2, 43]</text>\n</g>\n<!-- 1&#45;&gt;2 -->\n<g id=\"edge2\" class=\"edge\">\n<title>1&#45;&gt;2</title>\n<path fill=\"none\" stroke=\"black\" d=\"M130.33,-88.95C118.05,-79.43 104.67,-69.07 92.46,-59.62\"/>\n<polygon fill=\"black\" stroke=\"black\" points=\"94.28,-56.59 84.23,-53.24 89.99,-62.13 94.28,-56.59\"/>\n</g>\n<!-- 3 -->\n<g id=\"node4\" class=\"node\">\n<title>3</title>\n<path fill=\"#f6d5bd\" stroke=\"black\" d=\"M218,-53C218,-53 132,-53 132,-53 126,-53 120,-47 120,-41 120,-41 120,-12 120,-12 120,-6 126,0 132,0 132,0 218,0 218,0 224,0 230,-6 230,-12 230,-12 230,-41 230,-41 230,-47 224,-53 218,-53\"/>\n<text text-anchor=\"start\" x=\"143\" y=\"-37.8\" font-family=\"Helvetica,sans-Serif\" font-size=\"14.00\">gini = 0.48</text>\n<text text-anchor=\"start\" x=\"134\" y=\"-22.8\" font-family=\"Helvetica,sans-Serif\" font-size=\"14.00\">samples = 35</text>\n<text text-anchor=\"start\" x=\"128\" y=\"-7.8\" font-family=\"Helvetica,sans-Serif\" font-size=\"14.00\">value = [21, 14]</text>\n</g>\n<!-- 1&#45;&gt;3 -->\n<g id=\"edge3\" class=\"edge\">\n<title>1&#45;&gt;3</title>\n<path fill=\"none\" stroke=\"black\" d=\"M173.7,-88.95C173.87,-80.72 174.06,-71.85 174.24,-63.48\"/>\n<polygon fill=\"black\" stroke=\"black\" points=\"177.74,-63.31 174.46,-53.24 170.74,-63.16 177.74,-63.31\"/>\n</g>\n<!-- 5 -->\n<g id=\"node6\" class=\"node\">\n<title>5</title>\n<path fill=\"#e78a47\" stroke=\"black\" d=\"M342,-53C342,-53 264,-53 264,-53 258,-53 252,-47 252,-41 252,-41 252,-12 252,-12 252,-6 258,0 264,0 264,0 342,0 342,0 348,0 354,-6 354,-12 354,-12 354,-41 354,-41 354,-47 348,-53 342,-53\"/>\n<text text-anchor=\"start\" x=\"267.5\" y=\"-37.8\" font-family=\"Helvetica,sans-Serif\" font-size=\"14.00\">gini = 0.123</text>\n<text text-anchor=\"start\" x=\"262\" y=\"-22.8\" font-family=\"Helvetica,sans-Serif\" font-size=\"14.00\">samples = 61</text>\n<text text-anchor=\"start\" x=\"260\" y=\"-7.8\" font-family=\"Helvetica,sans-Serif\" font-size=\"14.00\">value = [57, 4]</text>\n</g>\n<!-- 4&#45;&gt;5 -->\n<g id=\"edge5\" class=\"edge\">\n<title>4&#45;&gt;5</title>\n<path fill=\"none\" stroke=\"black\" d=\"M304.3,-88.95C304.13,-80.72 303.94,-71.85 303.76,-63.48\"/>\n<polygon fill=\"black\" stroke=\"black\" points=\"307.26,-63.16 303.54,-53.24 300.26,-63.31 307.26,-63.16\"/>\n</g>\n<!-- 6 -->\n<g id=\"node7\" class=\"node\">\n<title>6</title>\n<path fill=\"#f0b489\" stroke=\"black\" d=\"M470,-53C470,-53 384,-53 384,-53 378,-53 372,-47 372,-41 372,-41 372,-12 372,-12 372,-6 378,0 384,0 384,0 470,0 470,0 476,0 482,-6 482,-12 482,-12 482,-41 482,-41 482,-47 476,-53 470,-53\"/>\n<text text-anchor=\"start\" x=\"395\" y=\"-37.8\" font-family=\"Helvetica,sans-Serif\" font-size=\"14.00\">gini = 0.41</text>\n<text text-anchor=\"start\" x=\"386\" y=\"-22.8\" font-family=\"Helvetica,sans-Serif\" font-size=\"14.00\">samples = 73</text>\n<text text-anchor=\"start\" x=\"380\" y=\"-7.8\" font-family=\"Helvetica,sans-Serif\" font-size=\"14.00\">value = [52, 21]</text>\n</g>\n<!-- 4&#45;&gt;6 -->\n<g id=\"edge6\" class=\"edge\">\n<title>4&#45;&gt;6</title>\n<path fill=\"none\" stroke=\"black\" d=\"M347.67,-88.95C359.95,-79.43 373.33,-69.07 385.54,-59.62\"/>\n<polygon fill=\"black\" stroke=\"black\" points=\"388.01,-62.13 393.77,-53.24 383.72,-56.59 388.01,-62.13\"/>\n</g>\n</g>\n</svg>\n",
      "text/plain": [
       "<graphviz.sources.Source at 0x7f9fb07bf970>"
      ]
     },
     "execution_count": 19,
     "metadata": {},
     "output_type": "execute_result"
    }
   ],
   "source": [
    "model2_data = sklearn.tree.export_graphviz(model_two, feature_names= X_train.columns, filled=True, rounded=True, special_characters=True)\n",
    "graph = graphviz.Source(model2_data)\n",
    "graph"
   ]
  },
  {
   "cell_type": "code",
   "execution_count": 17,
   "metadata": {},
   "outputs": [
    {
     "name": "stdout",
     "output_type": "stream",
     "text": [
      "Reading from CSV file...\n"
     ]
    }
   ],
   "source": [
    "telco_df = acq.get_telco_data()\n"
   ]
  },
  {
   "cell_type": "code",
   "execution_count": 18,
   "metadata": {},
   "outputs": [
    {
     "name": "stdout",
     "output_type": "stream",
     "text": [
      "<class 'pandas.core.frame.DataFrame'>\n",
      "Int64Index: 3937 entries, 5981 to 1671\n",
      "Data columns (total 51 columns):\n",
      " #   Column                                 Non-Null Count  Dtype  \n",
      "---  ------                                 --------------  -----  \n",
      " 0   customer_id                            3937 non-null   object \n",
      " 1   gender                                 3937 non-null   object \n",
      " 2   senior_citizen                         3937 non-null   int64  \n",
      " 3   partner                                3937 non-null   object \n",
      " 4   dependents                             3937 non-null   object \n",
      " 5   tenure                                 3937 non-null   int64  \n",
      " 6   phone_service                          3937 non-null   object \n",
      " 7   multiple_lines                         3937 non-null   object \n",
      " 8   internet_service_type_id               3937 non-null   int64  \n",
      " 9   online_security                        3937 non-null   object \n",
      " 10  online_backup                          3937 non-null   object \n",
      " 11  device_protection                      3937 non-null   object \n",
      " 12  tech_support                           3937 non-null   object \n",
      " 13  streaming_tv                           3937 non-null   object \n",
      " 14  streaming_movies                       3937 non-null   object \n",
      " 15  contract_type_id                       3937 non-null   int64  \n",
      " 16  paperless_billing                      3937 non-null   object \n",
      " 17  payment_type_id                        3937 non-null   int64  \n",
      " 18  monthly_charges                        3937 non-null   float64\n",
      " 19  total_charges                          3937 non-null   float64\n",
      " 20  churn                                  3937 non-null   object \n",
      " 21  contract_type                          3937 non-null   object \n",
      " 22  payment_type                           3937 non-null   object \n",
      " 23  internet_service_type                  3937 non-null   object \n",
      " 24  gender_Male                            3937 non-null   uint8  \n",
      " 25  partner_Yes                            3937 non-null   uint8  \n",
      " 26  dependents_Yes                         3937 non-null   uint8  \n",
      " 27  phone_service_Yes                      3937 non-null   uint8  \n",
      " 28  multiple_lines_No phone service        3937 non-null   uint8  \n",
      " 29  multiple_lines_Yes                     3937 non-null   uint8  \n",
      " 30  online_security_No internet service    3937 non-null   uint8  \n",
      " 31  online_security_Yes                    3937 non-null   uint8  \n",
      " 32  online_backup_No internet service      3937 non-null   uint8  \n",
      " 33  online_backup_Yes                      3937 non-null   uint8  \n",
      " 34  device_protection_No internet service  3937 non-null   uint8  \n",
      " 35  device_protection_Yes                  3937 non-null   uint8  \n",
      " 36  tech_support_No internet service       3937 non-null   uint8  \n",
      " 37  tech_support_Yes                       3937 non-null   uint8  \n",
      " 38  streaming_tv_No internet service       3937 non-null   uint8  \n",
      " 39  streaming_tv_Yes                       3937 non-null   uint8  \n",
      " 40  streaming_movies_No internet service   3937 non-null   uint8  \n",
      " 41  streaming_movies_Yes                   3937 non-null   uint8  \n",
      " 42  paperless_billing_Yes                  3937 non-null   uint8  \n",
      " 43  churn_Yes                              3937 non-null   uint8  \n",
      " 44  contract_type_One year                 3937 non-null   uint8  \n",
      " 45  contract_type_Two year                 3937 non-null   uint8  \n",
      " 46  payment_type_Credit card (automatic)   3937 non-null   uint8  \n",
      " 47  payment_type_Electronic check          3937 non-null   uint8  \n",
      " 48  payment_type_Mailed check              3937 non-null   uint8  \n",
      " 49  internet_service_type_Fiber optic      3937 non-null   uint8  \n",
      " 50  internet_service_type_None             3937 non-null   uint8  \n",
      "dtypes: float64(2), int64(5), object(17), uint8(27)\n",
      "memory usage: 872.8+ KB\n"
     ]
    }
   ],
   "source": [
    "telco_df_clean, telco_train, telco_validate, telco_test = prep.prep_telco(telco_df)\n",
    "\n",
    "telco_train.info()"
   ]
  },
  {
   "cell_type": "code",
   "execution_count": 45,
   "metadata": {},
   "outputs": [
    {
     "data": {
      "text/plain": [
       "senior_citizen                              0.265774\n",
       "tenure                                     17.813576\n",
       "internet_service_type_id                    1.822180\n",
       "contract_type_id                            1.135755\n",
       "payment_type_id                             1.803059\n",
       "monthly_charges                            74.407839\n",
       "total_charges                            1510.136711\n",
       "gender_Male                                 0.486616\n",
       "partner_Yes                                 0.352772\n",
       "dependents_Yes                              0.155832\n",
       "phone_service_Yes                           0.907266\n",
       "multiple_lines_No phone service             0.092734\n",
       "multiple_lines_Yes                          0.449331\n",
       "online_security_No internet service         0.059273\n",
       "online_security_Yes                         0.153920\n",
       "online_backup_No internet service           0.059273\n",
       "online_backup_Yes                           0.270554\n",
       "device_protection_No internet service       0.059273\n",
       "device_protection_Yes                       0.289675\n",
       "tech_support_No internet service            0.059273\n",
       "tech_support_Yes                            0.161568\n",
       "streaming_tv_No internet service            0.059273\n",
       "streaming_tv_Yes                            0.423518\n",
       "streaming_movies_No internet service        0.059273\n",
       "streaming_movies_Yes                        0.434034\n",
       "paperless_billing_Yes                       0.745698\n",
       "churn_Yes                                   1.000000\n",
       "contract_type_One year                      0.084130\n",
       "contract_type_Two year                      0.025813\n",
       "payment_type_Credit card (automatic)        0.118547\n",
       "payment_type_Electronic check               0.573614\n",
       "payment_type_Mailed check                   0.168260\n",
       "internet_service_type_Fiber optic           0.703633\n",
       "internet_service_type_None                  0.059273\n",
       "baseline                                    1.000000\n",
       "dtype: float64"
      ]
     },
     "execution_count": 45,
     "metadata": {},
     "output_type": "execute_result"
    }
   ],
   "source": [
    "telco_train['baseline'] = 1\n",
    "telco_train[(telco_train.baseline == telco_train.churn_Yes)].mean()"
   ]
  },
  {
   "cell_type": "code",
   "execution_count": 19,
   "metadata": {},
   "outputs": [
    {
     "data": {
      "text/html": [
       "<div>\n",
       "<style scoped>\n",
       "    .dataframe tbody tr th:only-of-type {\n",
       "        vertical-align: middle;\n",
       "    }\n",
       "\n",
       "    .dataframe tbody tr th {\n",
       "        vertical-align: top;\n",
       "    }\n",
       "\n",
       "    .dataframe thead th {\n",
       "        text-align: right;\n",
       "    }\n",
       "</style>\n",
       "<table border=\"1\" class=\"dataframe\">\n",
       "  <thead>\n",
       "    <tr style=\"text-align: right;\">\n",
       "      <th></th>\n",
       "      <th>customer_id</th>\n",
       "      <th>gender</th>\n",
       "      <th>senior_citizen</th>\n",
       "      <th>partner</th>\n",
       "      <th>dependents</th>\n",
       "      <th>tenure</th>\n",
       "      <th>phone_service</th>\n",
       "      <th>multiple_lines</th>\n",
       "      <th>internet_service_type_id</th>\n",
       "      <th>online_security</th>\n",
       "      <th>...</th>\n",
       "      <th>streaming_movies_Yes</th>\n",
       "      <th>paperless_billing_Yes</th>\n",
       "      <th>churn_Yes</th>\n",
       "      <th>contract_type_One year</th>\n",
       "      <th>contract_type_Two year</th>\n",
       "      <th>payment_type_Credit card (automatic)</th>\n",
       "      <th>payment_type_Electronic check</th>\n",
       "      <th>payment_type_Mailed check</th>\n",
       "      <th>internet_service_type_Fiber optic</th>\n",
       "      <th>internet_service_type_None</th>\n",
       "    </tr>\n",
       "  </thead>\n",
       "  <tbody>\n",
       "    <tr>\n",
       "      <th>0</th>\n",
       "      <td>0002-ORFBO</td>\n",
       "      <td>Female</td>\n",
       "      <td>0</td>\n",
       "      <td>Yes</td>\n",
       "      <td>Yes</td>\n",
       "      <td>9</td>\n",
       "      <td>Yes</td>\n",
       "      <td>No</td>\n",
       "      <td>1</td>\n",
       "      <td>No</td>\n",
       "      <td>...</td>\n",
       "      <td>0</td>\n",
       "      <td>1</td>\n",
       "      <td>0</td>\n",
       "      <td>1</td>\n",
       "      <td>0</td>\n",
       "      <td>0</td>\n",
       "      <td>0</td>\n",
       "      <td>1</td>\n",
       "      <td>0</td>\n",
       "      <td>0</td>\n",
       "    </tr>\n",
       "    <tr>\n",
       "      <th>1</th>\n",
       "      <td>0003-MKNFE</td>\n",
       "      <td>Male</td>\n",
       "      <td>0</td>\n",
       "      <td>No</td>\n",
       "      <td>No</td>\n",
       "      <td>9</td>\n",
       "      <td>Yes</td>\n",
       "      <td>Yes</td>\n",
       "      <td>1</td>\n",
       "      <td>No</td>\n",
       "      <td>...</td>\n",
       "      <td>1</td>\n",
       "      <td>0</td>\n",
       "      <td>0</td>\n",
       "      <td>0</td>\n",
       "      <td>0</td>\n",
       "      <td>0</td>\n",
       "      <td>0</td>\n",
       "      <td>1</td>\n",
       "      <td>0</td>\n",
       "      <td>0</td>\n",
       "    </tr>\n",
       "    <tr>\n",
       "      <th>2</th>\n",
       "      <td>0004-TLHLJ</td>\n",
       "      <td>Male</td>\n",
       "      <td>0</td>\n",
       "      <td>No</td>\n",
       "      <td>No</td>\n",
       "      <td>4</td>\n",
       "      <td>Yes</td>\n",
       "      <td>No</td>\n",
       "      <td>2</td>\n",
       "      <td>No</td>\n",
       "      <td>...</td>\n",
       "      <td>0</td>\n",
       "      <td>1</td>\n",
       "      <td>1</td>\n",
       "      <td>0</td>\n",
       "      <td>0</td>\n",
       "      <td>0</td>\n",
       "      <td>1</td>\n",
       "      <td>0</td>\n",
       "      <td>1</td>\n",
       "      <td>0</td>\n",
       "    </tr>\n",
       "    <tr>\n",
       "      <th>3</th>\n",
       "      <td>0011-IGKFF</td>\n",
       "      <td>Male</td>\n",
       "      <td>1</td>\n",
       "      <td>Yes</td>\n",
       "      <td>No</td>\n",
       "      <td>13</td>\n",
       "      <td>Yes</td>\n",
       "      <td>No</td>\n",
       "      <td>2</td>\n",
       "      <td>No</td>\n",
       "      <td>...</td>\n",
       "      <td>1</td>\n",
       "      <td>1</td>\n",
       "      <td>1</td>\n",
       "      <td>0</td>\n",
       "      <td>0</td>\n",
       "      <td>0</td>\n",
       "      <td>1</td>\n",
       "      <td>0</td>\n",
       "      <td>1</td>\n",
       "      <td>0</td>\n",
       "    </tr>\n",
       "    <tr>\n",
       "      <th>4</th>\n",
       "      <td>0013-EXCHZ</td>\n",
       "      <td>Female</td>\n",
       "      <td>1</td>\n",
       "      <td>Yes</td>\n",
       "      <td>No</td>\n",
       "      <td>3</td>\n",
       "      <td>Yes</td>\n",
       "      <td>No</td>\n",
       "      <td>2</td>\n",
       "      <td>No</td>\n",
       "      <td>...</td>\n",
       "      <td>0</td>\n",
       "      <td>1</td>\n",
       "      <td>1</td>\n",
       "      <td>0</td>\n",
       "      <td>0</td>\n",
       "      <td>0</td>\n",
       "      <td>0</td>\n",
       "      <td>1</td>\n",
       "      <td>1</td>\n",
       "      <td>0</td>\n",
       "    </tr>\n",
       "  </tbody>\n",
       "</table>\n",
       "<p>5 rows × 51 columns</p>\n",
       "</div>"
      ],
      "text/plain": [
       "  customer_id  gender  senior_citizen partner dependents  tenure  \\\n",
       "0  0002-ORFBO  Female               0     Yes        Yes       9   \n",
       "1  0003-MKNFE    Male               0      No         No       9   \n",
       "2  0004-TLHLJ    Male               0      No         No       4   \n",
       "3  0011-IGKFF    Male               1     Yes         No      13   \n",
       "4  0013-EXCHZ  Female               1     Yes         No       3   \n",
       "\n",
       "  phone_service multiple_lines  internet_service_type_id online_security  ...  \\\n",
       "0           Yes             No                         1              No  ...   \n",
       "1           Yes            Yes                         1              No  ...   \n",
       "2           Yes             No                         2              No  ...   \n",
       "3           Yes             No                         2              No  ...   \n",
       "4           Yes             No                         2              No  ...   \n",
       "\n",
       "  streaming_movies_Yes paperless_billing_Yes churn_Yes contract_type_One year  \\\n",
       "0                    0                     1         0                      1   \n",
       "1                    1                     0         0                      0   \n",
       "2                    0                     1         1                      0   \n",
       "3                    1                     1         1                      0   \n",
       "4                    0                     1         1                      0   \n",
       "\n",
       "  contract_type_Two year  payment_type_Credit card (automatic)  \\\n",
       "0                      0                                     0   \n",
       "1                      0                                     0   \n",
       "2                      0                                     0   \n",
       "3                      0                                     0   \n",
       "4                      0                                     0   \n",
       "\n",
       "  payment_type_Electronic check  payment_type_Mailed check  \\\n",
       "0                             0                          1   \n",
       "1                             0                          1   \n",
       "2                             1                          0   \n",
       "3                             1                          0   \n",
       "4                             0                          1   \n",
       "\n",
       "   internet_service_type_Fiber optic  internet_service_type_None  \n",
       "0                                  0                           0  \n",
       "1                                  0                           0  \n",
       "2                                  1                           0  \n",
       "3                                  1                           0  \n",
       "4                                  1                           0  \n",
       "\n",
       "[5 rows x 51 columns]"
      ]
     },
     "execution_count": 19,
     "metadata": {},
     "output_type": "execute_result"
    }
   ],
   "source": [
    "telco_df_clean.head()"
   ]
  },
  {
   "cell_type": "code",
   "execution_count": 26,
   "metadata": {},
   "outputs": [
    {
     "name": "stdout",
     "output_type": "stream",
     "text": [
      "1046\n",
      "3937\n"
     ]
    }
   ],
   "source": [
    "X_telco_train = telco_train.drop(columns= ['churn_Yes'])\n",
    "y_telco_train = telco_train.churn_Yes\n",
    "\n",
    "X_telco_validate = telco_validate.drop(columns= ['churn_Yes'])\n",
    "y_telco_validate = telco_validate.churn_Yes\n",
    "\n",
    "X_telco_test = telco_test.drop(columns= ['churn_Yes'])\n",
    "y_telco_test = telco_test.churn_Yes\n",
    "\n",
    "telco_model1 = DecisionTreeClassifier(max_depth= 3, random_state=302)\n",
    "\n",
    "X_telco_train.head()\n",
    "print(y_telco_train.sum())\n",
    "print(len(y_telco_train))"
   ]
  },
  {
   "cell_type": "code",
   "execution_count": 34,
   "metadata": {},
   "outputs": [],
   "source": [
    "X_telco_train = X_telco_train.select_dtypes(include=np.number)"
   ]
  },
  {
   "cell_type": "code",
   "execution_count": 36,
   "metadata": {},
   "outputs": [],
   "source": [
    "X_telco_validate = X_telco_validate.select_dtypes(include=np.number)\n",
    "X_telco_test = X_telco_test.select_dtypes(include=np.number)"
   ]
  },
  {
   "cell_type": "code",
   "execution_count": 39,
   "metadata": {},
   "outputs": [
    {
     "data": {
      "text/plain": [
       "Index(['senior_citizen', 'tenure', 'internet_service_type_id',\n",
       "       'contract_type_id', 'payment_type_id', 'monthly_charges',\n",
       "       'total_charges', 'gender_Male', 'partner_Yes', 'dependents_Yes',\n",
       "       'phone_service_Yes', 'multiple_lines_No phone service',\n",
       "       'multiple_lines_Yes', 'online_security_No internet service',\n",
       "       'online_security_Yes', 'online_backup_No internet service',\n",
       "       'online_backup_Yes', 'device_protection_No internet service',\n",
       "       'device_protection_Yes', 'tech_support_No internet service',\n",
       "       'tech_support_Yes', 'streaming_tv_No internet service',\n",
       "       'streaming_tv_Yes', 'streaming_movies_No internet service',\n",
       "       'streaming_movies_Yes', 'paperless_billing_Yes',\n",
       "       'contract_type_One year', 'contract_type_Two year',\n",
       "       'payment_type_Credit card (automatic)', 'payment_type_Electronic check',\n",
       "       'payment_type_Mailed check', 'internet_service_type_Fiber optic',\n",
       "       'internet_service_type_None'],\n",
       "      dtype='object')"
      ]
     },
     "execution_count": 39,
     "metadata": {},
     "output_type": "execute_result"
    }
   ],
   "source": [
    "X_telco_train.columns"
   ]
  },
  {
   "cell_type": "code",
   "execution_count": 35,
   "metadata": {},
   "outputs": [
    {
     "name": "stdout",
     "output_type": "stream",
     "text": [
      "              precision    recall  f1-score   support\n",
      "\n",
      "           0       0.81      0.94      0.87      2891\n",
      "           1       0.70      0.41      0.51      1046\n",
      "\n",
      "    accuracy                           0.80      3937\n",
      "   macro avg       0.75      0.67      0.69      3937\n",
      "weighted avg       0.78      0.80      0.78      3937\n",
      "\n"
     ]
    }
   ],
   "source": [
    "telco_model1.fit(X_telco_train, y_telco_train)\n",
    "\n",
    "telco_model1_predicts = telco_model1.predict(X_telco_train)\n",
    "telco_model1_actual = y_telco_train\n",
    "\n",
    "\n",
    "\n",
    "print(classification_report(telco_model1_actual, telco_model1_predicts))"
   ]
  },
  {
   "cell_type": "code",
   "execution_count": 38,
   "metadata": {},
   "outputs": [
    {
     "data": {
      "image/svg+xml": "<?xml version=\"1.0\" encoding=\"UTF-8\" standalone=\"no\"?>\n<!DOCTYPE svg PUBLIC \"-//W3C//DTD SVG 1.1//EN\"\n \"http://www.w3.org/Graphics/SVG/1.1/DTD/svg11.dtd\">\n<!-- Generated by graphviz version 2.50.0 (20211204.2007)\n -->\n<!-- Title: Tree Pages: 1 -->\n<svg width=\"1096pt\" height=\"373pt\"\n viewBox=\"0.00 0.00 1096.00 373.00\" xmlns=\"http://www.w3.org/2000/svg\" xmlns:xlink=\"http://www.w3.org/1999/xlink\">\n<g id=\"graph0\" class=\"graph\" transform=\"scale(1 1) rotate(0) translate(4 369)\">\n<title>Tree</title>\n<polygon fill=\"white\" stroke=\"transparent\" points=\"-4,4 -4,-369 1092,-369 1092,4 -4,4\"/>\n<!-- 0 -->\n<g id=\"node1\" class=\"node\">\n<title>0</title>\n<path fill=\"#eeaf81\" stroke=\"black\" d=\"M577,-365C577,-365 452,-365 452,-365 446,-365 440,-359 440,-353 440,-353 440,-309 440,-309 440,-303 446,-297 452,-297 452,-297 577,-297 577,-297 583,-297 589,-303 589,-309 589,-309 589,-353 589,-353 589,-359 583,-365 577,-365\"/>\n<text text-anchor=\"start\" x=\"448\" y=\"-349.8\" font-family=\"Helvetica,sans-Serif\" font-size=\"14.00\">contract_type_id ≤ 1.5</text>\n<text text-anchor=\"start\" x=\"482.5\" y=\"-334.8\" font-family=\"Helvetica,sans-Serif\" font-size=\"14.00\">gini = 0.39</text>\n<text text-anchor=\"start\" x=\"466\" y=\"-319.8\" font-family=\"Helvetica,sans-Serif\" font-size=\"14.00\">samples = 3937</text>\n<text text-anchor=\"start\" x=\"452.5\" y=\"-304.8\" font-family=\"Helvetica,sans-Serif\" font-size=\"14.00\">value = [2891, 1046]</text>\n</g>\n<!-- 1 -->\n<g id=\"node2\" class=\"node\">\n<title>1</title>\n<path fill=\"#f8dfcc\" stroke=\"black\" d=\"M486,-261C486,-261 261,-261 261,-261 255,-261 249,-255 249,-249 249,-249 249,-205 249,-205 249,-199 255,-193 261,-193 261,-193 486,-193 486,-193 492,-193 498,-199 498,-205 498,-205 498,-249 498,-249 498,-255 492,-261 486,-261\"/>\n<text text-anchor=\"start\" x=\"257\" y=\"-245.8\" font-family=\"Helvetica,sans-Serif\" font-size=\"14.00\">internet_service_type_Fiber optic ≤ 0.5</text>\n<text text-anchor=\"start\" x=\"338\" y=\"-230.8\" font-family=\"Helvetica,sans-Serif\" font-size=\"14.00\">gini = 0.489</text>\n<text text-anchor=\"start\" x=\"325\" y=\"-215.8\" font-family=\"Helvetica,sans-Serif\" font-size=\"14.00\">samples = 2184</text>\n<text text-anchor=\"start\" x=\"315.5\" y=\"-200.8\" font-family=\"Helvetica,sans-Serif\" font-size=\"14.00\">value = [1253, 931]</text>\n</g>\n<!-- 0&#45;&gt;1 -->\n<g id=\"edge1\" class=\"edge\">\n<title>0&#45;&gt;1</title>\n<path fill=\"none\" stroke=\"black\" d=\"M468.72,-296.88C455.67,-287.44 441.32,-277.06 427.81,-267.29\"/>\n<polygon fill=\"black\" stroke=\"black\" points=\"429.69,-264.32 419.53,-261.3 425.58,-270 429.69,-264.32\"/>\n<text text-anchor=\"middle\" x=\"423.49\" y=\"-282.28\" font-family=\"Helvetica,sans-Serif\" font-size=\"14.00\">True</text>\n</g>\n<!-- 8 -->\n<g id=\"node9\" class=\"node\">\n<title>8</title>\n<path fill=\"#e78a47\" stroke=\"black\" d=\"M753.5,-261C753.5,-261 601.5,-261 601.5,-261 595.5,-261 589.5,-255 589.5,-249 589.5,-249 589.5,-205 589.5,-205 589.5,-199 595.5,-193 601.5,-193 601.5,-193 753.5,-193 753.5,-193 759.5,-193 765.5,-199 765.5,-205 765.5,-205 765.5,-249 765.5,-249 765.5,-255 759.5,-261 753.5,-261\"/>\n<text text-anchor=\"start\" x=\"597.5\" y=\"-245.8\" font-family=\"Helvetica,sans-Serif\" font-size=\"14.00\">monthly_charges ≤ 92.425</text>\n<text text-anchor=\"start\" x=\"642\" y=\"-230.8\" font-family=\"Helvetica,sans-Serif\" font-size=\"14.00\">gini = 0.123</text>\n<text text-anchor=\"start\" x=\"629\" y=\"-215.8\" font-family=\"Helvetica,sans-Serif\" font-size=\"14.00\">samples = 1753</text>\n<text text-anchor=\"start\" x=\"619.5\" y=\"-200.8\" font-family=\"Helvetica,sans-Serif\" font-size=\"14.00\">value = [1638, 115]</text>\n</g>\n<!-- 0&#45;&gt;8 -->\n<g id=\"edge8\" class=\"edge\">\n<title>0&#45;&gt;8</title>\n<path fill=\"none\" stroke=\"black\" d=\"M567.42,-296.88C582.87,-287.21 599.89,-276.56 615.84,-266.59\"/>\n<polygon fill=\"black\" stroke=\"black\" points=\"617.94,-269.4 624.57,-261.12 614.23,-263.46 617.94,-269.4\"/>\n<text text-anchor=\"middle\" x=\"618.96\" y=\"-281.79\" font-family=\"Helvetica,sans-Serif\" font-size=\"14.00\">False</text>\n</g>\n<!-- 2 -->\n<g id=\"node3\" class=\"node\">\n<title>2</title>\n<path fill=\"#efb083\" stroke=\"black\" d=\"M256,-157C256,-157 155,-157 155,-157 149,-157 143,-151 143,-145 143,-145 143,-101 143,-101 143,-95 149,-89 155,-89 155,-89 256,-89 256,-89 262,-89 268,-95 268,-101 268,-101 268,-145 268,-145 268,-151 262,-157 256,-157\"/>\n<text text-anchor=\"start\" x=\"169\" y=\"-141.8\" font-family=\"Helvetica,sans-Serif\" font-size=\"14.00\">tenure ≤ 5.5</text>\n<text text-anchor=\"start\" x=\"170\" y=\"-126.8\" font-family=\"Helvetica,sans-Serif\" font-size=\"14.00\">gini = 0.396</text>\n<text text-anchor=\"start\" x=\"160.5\" y=\"-111.8\" font-family=\"Helvetica,sans-Serif\" font-size=\"14.00\">samples = 981</text>\n<text text-anchor=\"start\" x=\"151\" y=\"-96.8\" font-family=\"Helvetica,sans-Serif\" font-size=\"14.00\">value = [714, 267]</text>\n</g>\n<!-- 1&#45;&gt;2 -->\n<g id=\"edge2\" class=\"edge\">\n<title>1&#45;&gt;2</title>\n<path fill=\"none\" stroke=\"black\" d=\"M318.96,-192.88C303.03,-183.21 285.49,-172.56 269.06,-162.59\"/>\n<polygon fill=\"black\" stroke=\"black\" points=\"270.42,-159.32 260.06,-157.12 266.79,-165.31 270.42,-159.32\"/>\n</g>\n<!-- 5 -->\n<g id=\"node6\" class=\"node\">\n<title>5</title>\n<path fill=\"#daedfa\" stroke=\"black\" d=\"M424,-157C424,-157 323,-157 323,-157 317,-157 311,-151 311,-145 311,-145 311,-101 311,-101 311,-95 317,-89 323,-89 323,-89 424,-89 424,-89 430,-89 436,-95 436,-101 436,-101 436,-145 436,-145 436,-151 430,-157 424,-157\"/>\n<text text-anchor=\"start\" x=\"333.5\" y=\"-141.8\" font-family=\"Helvetica,sans-Serif\" font-size=\"14.00\">tenure ≤ 16.5</text>\n<text text-anchor=\"start\" x=\"338\" y=\"-126.8\" font-family=\"Helvetica,sans-Serif\" font-size=\"14.00\">gini = 0.495</text>\n<text text-anchor=\"start\" x=\"325\" y=\"-111.8\" font-family=\"Helvetica,sans-Serif\" font-size=\"14.00\">samples = 1203</text>\n<text text-anchor=\"start\" x=\"319\" y=\"-96.8\" font-family=\"Helvetica,sans-Serif\" font-size=\"14.00\">value = [539, 664]</text>\n</g>\n<!-- 1&#45;&gt;5 -->\n<g id=\"edge5\" class=\"edge\">\n<title>1&#45;&gt;5</title>\n<path fill=\"none\" stroke=\"black\" d=\"M373.5,-192.88C373.5,-184.78 373.5,-175.98 373.5,-167.47\"/>\n<polygon fill=\"black\" stroke=\"black\" points=\"377,-167.3 373.5,-157.3 370,-167.3 377,-167.3\"/>\n</g>\n<!-- 3 -->\n<g id=\"node4\" class=\"node\">\n<title>3</title>\n<path fill=\"#f6d4bb\" stroke=\"black\" d=\"M113,-53C113,-53 12,-53 12,-53 6,-53 0,-47 0,-41 0,-41 0,-12 0,-12 0,-6 6,0 12,0 12,0 113,0 113,0 119,0 125,-6 125,-12 125,-12 125,-41 125,-41 125,-47 119,-53 113,-53\"/>\n<text text-anchor=\"start\" x=\"27\" y=\"-37.8\" font-family=\"Helvetica,sans-Serif\" font-size=\"14.00\">gini = 0.478</text>\n<text text-anchor=\"start\" x=\"17.5\" y=\"-22.8\" font-family=\"Helvetica,sans-Serif\" font-size=\"14.00\">samples = 414</text>\n<text text-anchor=\"start\" x=\"8\" y=\"-7.8\" font-family=\"Helvetica,sans-Serif\" font-size=\"14.00\">value = [250, 164]</text>\n</g>\n<!-- 2&#45;&gt;3 -->\n<g id=\"edge3\" class=\"edge\">\n<title>2&#45;&gt;3</title>\n<path fill=\"none\" stroke=\"black\" d=\"M155.49,-88.95C140.67,-79.16 124.51,-68.48 109.87,-58.8\"/>\n<polygon fill=\"black\" stroke=\"black\" points=\"111.72,-55.83 101.45,-53.24 107.86,-61.67 111.72,-55.83\"/>\n</g>\n<!-- 4 -->\n<g id=\"node5\" class=\"node\">\n<title>4</title>\n<path fill=\"#eb9d65\" stroke=\"black\" d=\"M256,-53C256,-53 155,-53 155,-53 149,-53 143,-47 143,-41 143,-41 143,-12 143,-12 143,-6 149,0 155,0 155,0 256,0 256,0 262,0 268,-6 268,-12 268,-12 268,-41 268,-41 268,-47 262,-53 256,-53\"/>\n<text text-anchor=\"start\" x=\"170\" y=\"-37.8\" font-family=\"Helvetica,sans-Serif\" font-size=\"14.00\">gini = 0.297</text>\n<text text-anchor=\"start\" x=\"160.5\" y=\"-22.8\" font-family=\"Helvetica,sans-Serif\" font-size=\"14.00\">samples = 567</text>\n<text text-anchor=\"start\" x=\"151\" y=\"-7.8\" font-family=\"Helvetica,sans-Serif\" font-size=\"14.00\">value = [464, 103]</text>\n</g>\n<!-- 2&#45;&gt;4 -->\n<g id=\"edge4\" class=\"edge\">\n<title>2&#45;&gt;4</title>\n<path fill=\"none\" stroke=\"black\" d=\"M205.5,-88.95C205.5,-80.72 205.5,-71.85 205.5,-63.48\"/>\n<polygon fill=\"black\" stroke=\"black\" points=\"209,-63.24 205.5,-53.24 202,-63.24 209,-63.24\"/>\n</g>\n<!-- 6 -->\n<g id=\"node7\" class=\"node\">\n<title>6</title>\n<path fill=\"#90c8f0\" stroke=\"black\" d=\"M399,-53C399,-53 298,-53 298,-53 292,-53 286,-47 286,-41 286,-41 286,-12 286,-12 286,-6 292,0 298,0 298,0 399,0 399,0 405,0 411,-6 411,-12 411,-12 411,-41 411,-41 411,-47 405,-53 399,-53\"/>\n<text text-anchor=\"start\" x=\"313\" y=\"-37.8\" font-family=\"Helvetica,sans-Serif\" font-size=\"14.00\">gini = 0.424</text>\n<text text-anchor=\"start\" x=\"303.5\" y=\"-22.8\" font-family=\"Helvetica,sans-Serif\" font-size=\"14.00\">samples = 614</text>\n<text text-anchor=\"start\" x=\"294\" y=\"-7.8\" font-family=\"Helvetica,sans-Serif\" font-size=\"14.00\">value = [187, 427]</text>\n</g>\n<!-- 5&#45;&gt;6 -->\n<g id=\"edge6\" class=\"edge\">\n<title>5&#45;&gt;6</title>\n<path fill=\"none\" stroke=\"black\" d=\"M364.76,-88.95C362.53,-80.53 360.13,-71.45 357.87,-62.92\"/>\n<polygon fill=\"black\" stroke=\"black\" points=\"361.25,-62.01 355.31,-53.24 354.48,-63.8 361.25,-62.01\"/>\n</g>\n<!-- 7 -->\n<g id=\"node8\" class=\"node\">\n<title>7</title>\n<path fill=\"#f7d6be\" stroke=\"black\" d=\"M542,-53C542,-53 441,-53 441,-53 435,-53 429,-47 429,-41 429,-41 429,-12 429,-12 429,-6 435,0 441,0 441,0 542,0 542,0 548,0 554,-6 554,-12 554,-12 554,-41 554,-41 554,-47 548,-53 542,-53\"/>\n<text text-anchor=\"start\" x=\"456\" y=\"-37.8\" font-family=\"Helvetica,sans-Serif\" font-size=\"14.00\">gini = 0.481</text>\n<text text-anchor=\"start\" x=\"446.5\" y=\"-22.8\" font-family=\"Helvetica,sans-Serif\" font-size=\"14.00\">samples = 589</text>\n<text text-anchor=\"start\" x=\"437\" y=\"-7.8\" font-family=\"Helvetica,sans-Serif\" font-size=\"14.00\">value = [352, 237]</text>\n</g>\n<!-- 5&#45;&gt;7 -->\n<g id=\"edge7\" class=\"edge\">\n<title>5&#45;&gt;7</title>\n<path fill=\"none\" stroke=\"black\" d=\"M414.77,-88.95C426.65,-79.43 439.59,-69.07 451.4,-59.62\"/>\n<polygon fill=\"black\" stroke=\"black\" points=\"453.75,-62.22 459.36,-53.24 449.37,-56.76 453.75,-62.22\"/>\n</g>\n<!-- 9 -->\n<g id=\"node10\" class=\"node\">\n<title>9</title>\n<path fill=\"#e68641\" stroke=\"black\" d=\"M740,-157C740,-157 615,-157 615,-157 609,-157 603,-151 603,-145 603,-145 603,-101 603,-101 603,-95 609,-89 615,-89 615,-89 740,-89 740,-89 746,-89 752,-95 752,-101 752,-101 752,-145 752,-145 752,-151 746,-157 740,-157\"/>\n<text text-anchor=\"start\" x=\"611\" y=\"-141.8\" font-family=\"Helvetica,sans-Serif\" font-size=\"14.00\">contract_type_id ≤ 2.5</text>\n<text text-anchor=\"start\" x=\"642\" y=\"-126.8\" font-family=\"Helvetica,sans-Serif\" font-size=\"14.00\">gini = 0.074</text>\n<text text-anchor=\"start\" x=\"629\" y=\"-111.8\" font-family=\"Helvetica,sans-Serif\" font-size=\"14.00\">samples = 1306</text>\n<text text-anchor=\"start\" x=\"623\" y=\"-96.8\" font-family=\"Helvetica,sans-Serif\" font-size=\"14.00\">value = [1256, 50]</text>\n</g>\n<!-- 8&#45;&gt;9 -->\n<g id=\"edge9\" class=\"edge\">\n<title>8&#45;&gt;9</title>\n<path fill=\"none\" stroke=\"black\" d=\"M677.5,-192.88C677.5,-184.78 677.5,-175.98 677.5,-167.47\"/>\n<polygon fill=\"black\" stroke=\"black\" points=\"681,-167.3 677.5,-157.3 674,-167.3 681,-167.3\"/>\n</g>\n<!-- 12 -->\n<g id=\"node13\" class=\"node\">\n<title>12</title>\n<path fill=\"#e9965b\" stroke=\"black\" d=\"M959.5,-157C959.5,-157 829.5,-157 829.5,-157 823.5,-157 817.5,-151 817.5,-145 817.5,-145 817.5,-101 817.5,-101 817.5,-95 823.5,-89 829.5,-89 829.5,-89 959.5,-89 959.5,-89 965.5,-89 971.5,-95 971.5,-101 971.5,-101 971.5,-145 971.5,-145 971.5,-151 965.5,-157 959.5,-157\"/>\n<text text-anchor=\"start\" x=\"825.5\" y=\"-141.8\" font-family=\"Helvetica,sans-Serif\" font-size=\"14.00\">total_charges ≤ 6586.1</text>\n<text text-anchor=\"start\" x=\"859\" y=\"-126.8\" font-family=\"Helvetica,sans-Serif\" font-size=\"14.00\">gini = 0.249</text>\n<text text-anchor=\"start\" x=\"849.5\" y=\"-111.8\" font-family=\"Helvetica,sans-Serif\" font-size=\"14.00\">samples = 447</text>\n<text text-anchor=\"start\" x=\"844\" y=\"-96.8\" font-family=\"Helvetica,sans-Serif\" font-size=\"14.00\">value = [382, 65]</text>\n</g>\n<!-- 8&#45;&gt;12 -->\n<g id=\"edge12\" class=\"edge\">\n<title>8&#45;&gt;12</title>\n<path fill=\"none\" stroke=\"black\" d=\"M747.95,-192.88C769.29,-182.86 792.86,-171.77 814.76,-161.48\"/>\n<polygon fill=\"black\" stroke=\"black\" points=\"816.47,-164.55 824.03,-157.12 813.49,-158.21 816.47,-164.55\"/>\n</g>\n<!-- 10 -->\n<g id=\"node11\" class=\"node\">\n<title>10</title>\n<path fill=\"#e78b48\" stroke=\"black\" d=\"M677,-53C677,-53 584,-53 584,-53 578,-53 572,-47 572,-41 572,-41 572,-12 572,-12 572,-6 578,0 584,0 584,0 677,0 677,0 683,0 689,-6 689,-12 689,-12 689,-41 689,-41 689,-47 683,-53 677,-53\"/>\n<text text-anchor=\"start\" x=\"595\" y=\"-37.8\" font-family=\"Helvetica,sans-Serif\" font-size=\"14.00\">gini = 0.135</text>\n<text text-anchor=\"start\" x=\"585.5\" y=\"-22.8\" font-family=\"Helvetica,sans-Serif\" font-size=\"14.00\">samples = 579</text>\n<text text-anchor=\"start\" x=\"580\" y=\"-7.8\" font-family=\"Helvetica,sans-Serif\" font-size=\"14.00\">value = [537, 42]</text>\n</g>\n<!-- 9&#45;&gt;10 -->\n<g id=\"edge10\" class=\"edge\">\n<title>9&#45;&gt;10</title>\n<path fill=\"none\" stroke=\"black\" d=\"M661.06,-88.95C656.78,-80.35 652.16,-71.06 647.84,-62.37\"/>\n<polygon fill=\"black\" stroke=\"black\" points=\"650.89,-60.63 643.3,-53.24 644.62,-63.75 650.89,-60.63\"/>\n</g>\n<!-- 11 -->\n<g id=\"node12\" class=\"node\">\n<title>11</title>\n<path fill=\"#e5823b\" stroke=\"black\" d=\"M805.5,-53C805.5,-53 719.5,-53 719.5,-53 713.5,-53 707.5,-47 707.5,-41 707.5,-41 707.5,-12 707.5,-12 707.5,-6 713.5,0 719.5,0 719.5,0 805.5,0 805.5,0 811.5,0 817.5,-6 817.5,-12 817.5,-12 817.5,-41 817.5,-41 817.5,-47 811.5,-53 805.5,-53\"/>\n<text text-anchor=\"start\" x=\"727\" y=\"-37.8\" font-family=\"Helvetica,sans-Serif\" font-size=\"14.00\">gini = 0.022</text>\n<text text-anchor=\"start\" x=\"717.5\" y=\"-22.8\" font-family=\"Helvetica,sans-Serif\" font-size=\"14.00\">samples = 727</text>\n<text text-anchor=\"start\" x=\"715.5\" y=\"-7.8\" font-family=\"Helvetica,sans-Serif\" font-size=\"14.00\">value = [719, 8]</text>\n</g>\n<!-- 9&#45;&gt;11 -->\n<g id=\"edge11\" class=\"edge\">\n<title>9&#45;&gt;11</title>\n<path fill=\"none\" stroke=\"black\" d=\"M707.23,-88.95C715.46,-79.8 724.39,-69.87 732.63,-60.71\"/>\n<polygon fill=\"black\" stroke=\"black\" points=\"735.27,-63.01 739.35,-53.24 730.06,-58.33 735.27,-63.01\"/>\n</g>\n<!-- 13 -->\n<g id=\"node14\" class=\"node\">\n<title>13</title>\n<path fill=\"#eca572\" stroke=\"black\" d=\"M941,-53C941,-53 848,-53 848,-53 842,-53 836,-47 836,-41 836,-41 836,-12 836,-12 836,-6 842,0 848,0 848,0 941,0 941,0 947,0 953,-6 953,-12 953,-12 953,-41 953,-41 953,-47 947,-53 941,-53\"/>\n<text text-anchor=\"start\" x=\"859\" y=\"-37.8\" font-family=\"Helvetica,sans-Serif\" font-size=\"14.00\">gini = 0.346</text>\n<text text-anchor=\"start\" x=\"849.5\" y=\"-22.8\" font-family=\"Helvetica,sans-Serif\" font-size=\"14.00\">samples = 225</text>\n<text text-anchor=\"start\" x=\"844\" y=\"-7.8\" font-family=\"Helvetica,sans-Serif\" font-size=\"14.00\">value = [175, 50]</text>\n</g>\n<!-- 12&#45;&gt;13 -->\n<g id=\"edge13\" class=\"edge\">\n<title>12&#45;&gt;13</title>\n<path fill=\"none\" stroke=\"black\" d=\"M894.5,-88.95C894.5,-80.72 894.5,-71.85 894.5,-63.48\"/>\n<polygon fill=\"black\" stroke=\"black\" points=\"898,-63.24 894.5,-53.24 891,-63.24 898,-63.24\"/>\n</g>\n<!-- 14 -->\n<g id=\"node15\" class=\"node\">\n<title>14</title>\n<path fill=\"#e78a47\" stroke=\"black\" d=\"M1076,-53C1076,-53 983,-53 983,-53 977,-53 971,-47 971,-41 971,-41 971,-12 971,-12 971,-6 977,0 983,0 983,0 1076,0 1076,0 1082,0 1088,-6 1088,-12 1088,-12 1088,-41 1088,-41 1088,-47 1082,-53 1076,-53\"/>\n<text text-anchor=\"start\" x=\"994\" y=\"-37.8\" font-family=\"Helvetica,sans-Serif\" font-size=\"14.00\">gini = 0.126</text>\n<text text-anchor=\"start\" x=\"984.5\" y=\"-22.8\" font-family=\"Helvetica,sans-Serif\" font-size=\"14.00\">samples = 222</text>\n<text text-anchor=\"start\" x=\"979\" y=\"-7.8\" font-family=\"Helvetica,sans-Serif\" font-size=\"14.00\">value = [207, 15]</text>\n</g>\n<!-- 12&#45;&gt;14 -->\n<g id=\"edge14\" class=\"edge\">\n<title>12&#45;&gt;14</title>\n<path fill=\"none\" stroke=\"black\" d=\"M941.72,-88.95C955.57,-79.25 970.68,-68.68 984.4,-59.07\"/>\n<polygon fill=\"black\" stroke=\"black\" points=\"986.55,-61.84 992.73,-53.24 982.53,-56.1 986.55,-61.84\"/>\n</g>\n</g>\n</svg>\n",
      "text/plain": [
       "<graphviz.sources.Source at 0x7f7e535f1970>"
      ]
     },
     "execution_count": 38,
     "metadata": {},
     "output_type": "execute_result"
    }
   ],
   "source": [
    "telco_model1_data = sklearn.tree.export_graphviz(telco_model1, out_file=None,feature_names= X_telco_train.columns, filled=True, rounded=True, special_characters=True)\n",
    "graph = graphviz.Source(telco_model1_data)\n",
    "graph"
   ]
  },
  {
   "cell_type": "code",
   "execution_count": 40,
   "metadata": {},
   "outputs": [
    {
     "name": "stdout",
     "output_type": "stream",
     "text": [
      "              precision    recall  f1-score   support\n",
      "\n",
      "           0       0.86      0.81      0.84      2891\n",
      "           1       0.55      0.63      0.59      1046\n",
      "\n",
      "    accuracy                           0.77      3937\n",
      "   macro avg       0.71      0.72      0.71      3937\n",
      "weighted avg       0.78      0.77      0.77      3937\n",
      "\n"
     ]
    }
   ],
   "source": [
    "telco_model2 = DecisionTreeClassifier(max_depth=2, random_state=302)\n",
    "telco_model2.fit(X_telco_train, y_telco_train)\n",
    "\n",
    "telco_model2_predicts = telco_model2.predict(X_telco_train)\n",
    "telco_model2_actual = y_telco_train\n",
    "\n",
    "print(classification_report(telco_model2_actual, telco_model2_predicts))"
   ]
  },
  {
   "cell_type": "code",
   "execution_count": 41,
   "metadata": {},
   "outputs": [
    {
     "name": "stdout",
     "output_type": "stream",
     "text": [
      "Model 1 score: 0.7952755905511811\n",
      "Model 2 score: 0.7660655321310642\n"
     ]
    }
   ],
   "source": [
    "print(f'Model 1 score: {telco_model1.score(X_telco_train, y_telco_train)}')\n",
    "print(f'Model 2 score: {telco_model2.score(X_telco_train, y_telco_train)}')\n"
   ]
  }
 ],
 "metadata": {
  "interpreter": {
   "hash": "38cca0c38332a56087b24af0bc80247f4fced29cb4f7f437d91dc159adec9c4e"
  },
  "kernelspec": {
   "display_name": "Python 3.9.7 ('base')",
   "language": "python",
   "name": "python3"
  },
  "language_info": {
   "codemirror_mode": {
    "name": "ipython",
    "version": 3
   },
   "file_extension": ".py",
   "mimetype": "text/x-python",
   "name": "python",
   "nbconvert_exporter": "python",
   "pygments_lexer": "ipython3",
   "version": "3.9.7"
  },
  "orig_nbformat": 4
 },
 "nbformat": 4,
 "nbformat_minor": 2
}
